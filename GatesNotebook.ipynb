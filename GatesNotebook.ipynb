{
 "cells": [
  {
   "cell_type": "markdown",
   "metadata": {},
   "source": [
    "# Quantum Synth: the implemented quantum circuits #\n",
    "\n",
    "The tested quantum circuits to be provided to the synthesizer are reported in this notebook. From a programming point of view, they are methods adding quantum gates to a quantum circuit provided as input file. In the tested application cases, each circuit has been applied to the quantum register when it is equal to |0000>, then the quantum circuits are provided to the ChooseBackEnd method for executing quantum circuits. **Pay attention: quantum circuits are usually not executed here, with the exception of a particular case which will be described into detail.**"
   ]
  },
  {
   "cell_type": "code",
   "execution_count": 2,
   "metadata": {},
   "outputs": [],
   "source": [
    "from qiskit import *\n",
    "import numpy as np\n",
    "import random\n",
    "import sys\n",
    "from backends_select import ChooseBackEnd"
   ]
  },
  {
   "cell_type": "markdown",
   "metadata": {},
   "source": [
    "## Quantum Circuit for generating one basis state starting from |0000> ##\n",
    "\n",
    "This quantum circuit generates one basis state between |0000> and |1011> by simply applying X gates to the qubits that must be equal to 1."
   ]
  },
  {
   "cell_type": "code",
   "execution_count": 3,
   "metadata": {},
   "outputs": [],
   "source": [
    "def GenerateCircuitSingleNote(circuit, note_id):\n",
    "    if (note_id >= 12):\n",
    "        sys.exit(\"Note must be an integer smaller than 11 and larger (or equal) to 0.\")\n",
    "    bitstring = str(bin(note_id)[2:])\n",
    "    bitstring = \"0\"*(4-len(bitstring))+bitstring\n",
    "    for i in range(len(bitstring)):\n",
    "        if bitstring[len(bitstring)-1-i] == \"1\":\n",
    "            circuit.x(i)"
   ]
  },
  {
   "cell_type": "code",
   "execution_count": 4,
   "metadata": {},
   "outputs": [
    {
     "data": {
      "text/plain": [
       "['0.000',\n",
       " '0.000',\n",
       " '0.000',\n",
       " '0.000',\n",
       " '0.000',\n",
       " '0.000',\n",
       " '0.000',\n",
       " '1.000',\n",
       " '0.000',\n",
       " '0.000',\n",
       " '0.000',\n",
       " '0.000',\n",
       " '0.000',\n",
       " '0.000',\n",
       " '0.000',\n",
       " '0.000']"
      ]
     },
     "execution_count": 4,
     "metadata": {},
     "output_type": "execute_result"
    }
   ],
   "source": [
    "qc = QuantumCircuit(4,4)\n",
    "GenerateCircuitSingleNote(qc, 7)\n",
    "ChooseBackEnd(qc, 'statevector_simulator')"
   ]
  },
  {
   "cell_type": "markdown",
   "metadata": {},
   "source": [
    "## Bell state generation between two qubits ##\n",
    "\n",
    "The two qubits to be entangled are provided as input parameters; moreover, it is possible to obtain a $\\vert \\Phi>$ or a $\\vert \\Psi>$ entangled state. Pay attention: in the current version of the Quantum synthesizer the phase is not employed, so we cannot distinguish between states as $\\vert \\Phi^{+}>$ and $\\vert \\Phi^{-}>$. "
   ]
  },
  {
   "cell_type": "code",
   "execution_count": 6,
   "metadata": {},
   "outputs": [],
   "source": [
    "def BellStateGenerationTwoQubits(quantumCircuit, firstQubit=0, secondQubit=1, specificEntangledState=\"Phi\"):\n",
    "    if specificEntangledState == \"Phi\":\n",
    "        quantumCircuit.h(firstQubit)\n",
    "        quantumCircuit.cx(firstQubit, secondQubit)\n",
    "    elif specificEntangledState == \"Psi\":\n",
    "        quantumCircuit.h(firstQubit)\n",
    "        quantumCircuit.x(secondQubit)\n",
    "        quantumCircuit.cx(firstQubit, secondQubit)"
   ]
  },
  {
   "cell_type": "code",
   "execution_count": 7,
   "metadata": {},
   "outputs": [
    {
     "name": "stdout",
     "output_type": "stream",
     "text": [
      "range(0, 4)\n"
     ]
    },
    {
     "data": {
      "text/plain": [
       "['0.500',\n",
       " '0.000',\n",
       " '0.000',\n",
       " '0.500',\n",
       " '0.000',\n",
       " '0.000',\n",
       " '0.000',\n",
       " '0.000',\n",
       " '0.000',\n",
       " '0.000',\n",
       " '0.000',\n",
       " '0.000',\n",
       " '0.000',\n",
       " '0.000',\n",
       " '0.000',\n",
       " '0.000']"
      ]
     },
     "execution_count": 7,
     "metadata": {},
     "output_type": "execute_result"
    }
   ],
   "source": [
    "qc = QuantumCircuit(4,4)\n",
    "BellStateGenerationTwoQubits(qc, 0, 1)\n",
    "ChooseBackEnd(qc, 'qasm_simulator')"
   ]
  },
  {
   "cell_type": "markdown",
   "metadata": {},
   "source": [
    "## Equal superposition of basis states ##\n",
    "\n",
    "Basis states to be in superposition are provided inside a list, which is the second parameter of the method. In this particular case, the initialize method of the quantum circuit class is employed: it inserts the quantum circuit required for obtaining the desired state starting from $\\vert 00 \\cdots 0>$. It is also possible to create a list of random states to be in equal superposition with the function ChooseEqualSuperpositionRandom."
   ]
  },
  {
   "cell_type": "code",
   "execution_count": 14,
   "metadata": {},
   "outputs": [],
   "source": [
    "def ChooseEqualSuperposition(quantumCircuit, states):\n",
    "    desiredVector = np.zeros(2**quantumCircuit.n_qubits)\n",
    "    flag = 1\n",
    "    for k in states:\n",
    "        if 0 <= k <= 11:\n",
    "            desiredVector[k] = 1/np.sqrt(len(states))\n",
    "            flag = flag*1\n",
    "        else:\n",
    "            flag = flag*0\n",
    "    if flag == 1:\n",
    "        quantumCircuit.initialize(desiredVector, range(4))\n",
    "        \n",
    "def ChooseEqualSuperpositionRandom(quantumCircuit):\n",
    "    randomNumberOfNotes = np.random.randint(2,13)\n",
    "    listModes = list(range(12))\n",
    "    listToSuperimpose = []\n",
    "    for i in range(randomNumberOfNotes):\n",
    "        tmp = random.choice(listModes)\n",
    "        listToSuperimpose.append(tmp)\n",
    "        listModes.remove(tmp)\n",
    "    ChooseEqualSuperposition(quantumCircuit, listToSuperimpose)"
   ]
  },
  {
   "cell_type": "code",
   "execution_count": 35,
   "metadata": {},
   "outputs": [
    {
     "name": "stdout",
     "output_type": "stream",
     "text": [
      "range(0, 4)\n"
     ]
    },
    {
     "data": {
      "text/plain": [
       "['0.000',\n",
       " '0.337',\n",
       " '0.000',\n",
       " '0.000',\n",
       " '0.325',\n",
       " '0.000',\n",
       " '0.000',\n",
       " '0.338',\n",
       " '0.000',\n",
       " '0.000',\n",
       " '0.000',\n",
       " '0.000',\n",
       " '0.000',\n",
       " '0.000',\n",
       " '0.000',\n",
       " '0.000']"
      ]
     },
     "execution_count": 35,
     "metadata": {},
     "output_type": "execute_result"
    }
   ],
   "source": [
    "qc = QuantumCircuit(4,4)\n",
    "ChooseEqualSuperposition(qc, [1, 4, 7])\n",
    "ChooseBackEnd(qc, 'qasm_simulator')"
   ]
  },
  {
   "cell_type": "markdown",
   "metadata": {},
   "source": [
    "## Hadamard gates ##\n",
    "\n",
    "Hadamard gates are applied to qubits which are in a list to be provided to the function Hadamard."
   ]
  },
  {
   "cell_type": "code",
   "execution_count": 16,
   "metadata": {},
   "outputs": [],
   "source": [
    "def Hadamard(quantumCircuit, listOfQubits):\n",
    "    for k in listOfQubits:\n",
    "        if 0 <= k <= quantumCircuit.n_qubits:\n",
    "            quantumCircuit.h(k)"
   ]
  },
  {
   "cell_type": "code",
   "execution_count": 20,
   "metadata": {},
   "outputs": [
    {
     "data": {
      "text/plain": [
       "['0.250',\n",
       " '0.250',\n",
       " '0.000',\n",
       " '0.000',\n",
       " '0.250',\n",
       " '0.250',\n",
       " '0.000',\n",
       " '0.000',\n",
       " '0.000',\n",
       " '0.000',\n",
       " '0.000',\n",
       " '0.000',\n",
       " '0.000',\n",
       " '0.000',\n",
       " '0.000',\n",
       " '0.000']"
      ]
     },
     "execution_count": 20,
     "metadata": {},
     "output_type": "execute_result"
    }
   ],
   "source": [
    "qc = QuantumCircuit(4,4)\n",
    "Hadamard(qc, [0, 2])\n",
    "ChooseBackEnd(qc, 'statevector_simulator')"
   ]
  },
  {
   "cell_type": "markdown",
   "metadata": {},
   "source": [
    "## Random rotation to each qubit ##\n",
    "\n",
    "The $U3(\\theta, \\phi, \\lambda)$ gate is applied to each qubit. For each gate, the three paramters are chosen randomly."
   ]
  },
  {
   "cell_type": "code",
   "execution_count": 21,
   "metadata": {},
   "outputs": [],
   "source": [
    "def RandomRotation(quantumCircuit):\n",
    "    for k in range(quantumCircuit.n_qubits):\n",
    "        quantumCircuit.u3(q=k, theta = np.random.random()*2*np.pi, phi = np.random.random()*np.pi, lam = np.random.random()*np.pi)"
   ]
  },
  {
   "cell_type": "code",
   "execution_count": 23,
   "metadata": {},
   "outputs": [
    {
     "name": "stdout",
     "output_type": "stream",
     "text": [
      "range(0, 4)\n"
     ]
    },
    {
     "data": {
      "text/plain": [
       "['0.026',\n",
       " '0.009',\n",
       " '0.080',\n",
       " '0.029',\n",
       " '0.014',\n",
       " '0.003',\n",
       " '0.036',\n",
       " '0.011',\n",
       " '0.105',\n",
       " '0.036',\n",
       " '0.303',\n",
       " '0.107',\n",
       " '0.045',\n",
       " '0.015',\n",
       " '0.132',\n",
       " '0.049']"
      ]
     },
     "execution_count": 23,
     "metadata": {},
     "output_type": "execute_result"
    }
   ],
   "source": [
    "qc = QuantumCircuit(4,4)\n",
    "RandomRotation(qc)\n",
    "ChooseBackEnd(qc, 'qasm_simulator')"
   ]
  },
  {
   "cell_type": "markdown",
   "metadata": {},
   "source": [
    "## Grover's search: single measurement case ##\n",
    "\n",
    "In the following, the methods for designing the four-qubit Grover's search algorithm are reported. It is possible to set the value to be amplified by providing to the Grover method the target as binary string. The oracle has been designed and it required the use of two ancilla qubits, since the Controlled-Controlled-Controlled-$Z$ gate is not natively available in Qiskit. In order to avoid problems with the measurement results, it has been required to provide as input parameter of the functions the initialLength, *i.e.* the length of the quantum register without the ancillas."
   ]
  },
  {
   "cell_type": "code",
   "execution_count": 25,
   "metadata": {},
   "outputs": [],
   "source": [
    "def __multiplecz(quantumCircuit, target, initialLength):\n",
    "    quantumCircuit.ccx(0,1, initialLength)\n",
    "    for k in range(2, initialLength-1):\n",
    "        quantumCircuit.ccx(k, initialLength+k-2, initialLength+k-1)\n",
    "    quantumCircuit.cz(quantumCircuit.n_qubits-1, initialLength-1)\n",
    "    for k in reversed(range(2, initialLength-1)):\n",
    "        quantumCircuit.ccx(k, initialLength+k-2, initialLength+k-1)\n",
    "    quantumCircuit.ccx(0,1, initialLength)\n",
    "    \n",
    "def Grover(quantumCircuit, target, initialLength):\n",
    "    for k in range(initialLength):\n",
    "        quantumCircuit.h(k)\n",
    "    ancillaQubit = QuantumRegister(2)\n",
    "    quantumCircuit.add_register(ancillaQubit)\n",
    "    for n in range(int(np.round(np.pi/4*np.sqrt(2**initialLength)))):\n",
    "        \n",
    "        for singleBit in range(initialLength):\n",
    "            if target[initialLength-singleBit-1] == '0':\n",
    "                quantumCircuit.x(singleBit)\n",
    "        __multiplecz(quantumCircuit, target, initialLength)\n",
    "        for singleBit in range(initialLength):\n",
    "            if target[initialLength-singleBit-1] == '0':\n",
    "                quantumCircuit.x(singleBit)\n",
    "                \n",
    "        for qubit in range(initialLength):\n",
    "            quantumCircuit.h(qubit)\n",
    "            quantumCircuit.x(qubit)\n",
    "        __multiplecz(quantumCircuit, target, initialLength)\n",
    "        for qubit in range(initialLength):\n",
    "            quantumCircuit.x(qubit)\n",
    "            quantumCircuit.h(qubit)"
   ]
  },
  {
   "cell_type": "code",
   "execution_count": 27,
   "metadata": {},
   "outputs": [
    {
     "data": {
      "text/plain": [
       "['0.003',\n",
       " '0.003',\n",
       " '0.003',\n",
       " '0.003',\n",
       " '0.003',\n",
       " '0.003',\n",
       " '0.003',\n",
       " '0.003',\n",
       " '0.003',\n",
       " '0.003',\n",
       " '0.961',\n",
       " '0.003',\n",
       " '0.003',\n",
       " '0.003',\n",
       " '0.003',\n",
       " '0.003']"
      ]
     },
     "execution_count": 27,
     "metadata": {},
     "output_type": "execute_result"
    }
   ],
   "source": [
    "qc = QuantumCircuit(4,4)\n",
    "targ = format(10, '#06b')[2:]\n",
    "Grover(qc,targ,4)\n",
    "ChooseBackEnd(quantumCircuit=qc, backendType=\"statevector_simulator\", qubitsToBeMeasured=range(4))"
   ]
  },
  {
   "cell_type": "markdown",
   "metadata": {},
   "source": [
    "## Grover's search: multiple measurement ##\n",
    "\n",
    "A possible \"music interpretation\" of the Grover's search algorithm is an interative volume amplification of one or more notes starting from noise generated by all notes played with low volume at the same time. In order to do that, we wrote a function that permits to get the probabilities at each step of the algorithm, *i.e.* after each amplitude amplification (phase oracle + inversion about the mean).\n",
    "This method is slightly different from the previous ones, since it does not only create the quantum circuit, but it also launches the simulation of each intermediate step. This is due to the fact that the QASM simulator requires to measure the quantum register in order to get the probabilities, differently from the statevector_simulator having the method get_statevector, thus requiring to build a new circuit to be measured at each step of the amplitude amplification procedure."
   ]
  },
  {
   "cell_type": "code",
   "execution_count": 28,
   "metadata": {},
   "outputs": [],
   "source": [
    "def AmplitudeAmplification(quantumCircuit, target, initialLength, numIterations):\n",
    "    for k in range(initialLength):\n",
    "        quantumCircuit.h(k)\n",
    "    ancillaQubit = QuantumRegister(2)\n",
    "    quantumCircuit.add_register(ancillaQubit)\n",
    "    for n in range(numIterations):\n",
    "        for singleBit in range(initialLength):\n",
    "            if target[initialLength - singleBit - 1] == '0':\n",
    "                quantumCircuit.x(singleBit)\n",
    "        __multiplecz(quantumCircuit, target, initialLength)\n",
    "        for singleBit in range(initialLength):\n",
    "            if target[initialLength - singleBit - 1] == '0':\n",
    "                quantumCircuit.x(singleBit)\n",
    "\n",
    "        for qubit in range(initialLength):\n",
    "            quantumCircuit.h(qubit)\n",
    "            quantumCircuit.x(qubit)\n",
    "        __multiplecz(quantumCircuit, target, initialLength)\n",
    "        for qubit in range(initialLength):\n",
    "            quantumCircuit.x(qubit)\n",
    "            quantumCircuit.h(qubit)\n",
    "\n",
    "\n",
    "def GroverSequence(target, initialLength,backendType,RealDeviceName,noisePresent):\n",
    "    iterations = []\n",
    "    for k in range(4):\n",
    "        temporaryQuantumCircuit = QuantumCircuit(initialLength, initialLength)\n",
    "        AmplitudeAmplification(temporaryQuantumCircuit, target, initialLength, k)\n",
    "        #             listForMusic = ChooseBackEnd(music, backendType=mystr[0], qubitsToBeMeasured=range(4),\n",
    "        #             numberShots=int(mystr[3]), noisePresent=True, RealDeviceName=mystr[1])\n",
    "\n",
    "        iterations.append(ChooseBackEnd(quantumCircuit=temporaryQuantumCircuit, noisePresent=noisePresent,backendType=backendType,qubitsToBeMeasured=range(4),RealDeviceName=RealDeviceName))\n",
    "        # ChooseBackEnd(quantumCircuit=temporaryQuantumCircuit, noisePresent=True,backendType=backendType,qubitsToBeMeasured=range(4),RealDeviceName=RealDeviceName)\n",
    "        del (temporaryQuantumCircuit)\n",
    "\n",
    "    return iterations"
   ]
  },
  {
   "cell_type": "code",
   "execution_count": 33,
   "metadata": {},
   "outputs": [
    {
     "data": {
      "text/plain": [
       "[['0.063',\n",
       "  '0.063',\n",
       "  '0.063',\n",
       "  '0.062',\n",
       "  '0.063',\n",
       "  '0.062',\n",
       "  '0.062',\n",
       "  '0.062',\n",
       "  '0.063',\n",
       "  '0.062',\n",
       "  '0.062',\n",
       "  '0.062',\n",
       "  '0.062',\n",
       "  '0.062',\n",
       "  '0.062',\n",
       "  '0.062'],\n",
       " ['0.035',\n",
       "  '0.035',\n",
       "  '0.035',\n",
       "  '0.035',\n",
       "  '0.035',\n",
       "  '0.035',\n",
       "  '0.035',\n",
       "  '0.035',\n",
       "  '0.035',\n",
       "  '0.035',\n",
       "  '0.473',\n",
       "  '0.035',\n",
       "  '0.035',\n",
       "  '0.035',\n",
       "  '0.035',\n",
       "  '0.035'],\n",
       " ['0.006',\n",
       "  '0.006',\n",
       "  '0.006',\n",
       "  '0.006',\n",
       "  '0.006',\n",
       "  '0.006',\n",
       "  '0.006',\n",
       "  '0.006',\n",
       "  '0.006',\n",
       "  '0.006',\n",
       "  '0.908',\n",
       "  '0.006',\n",
       "  '0.006',\n",
       "  '0.006',\n",
       "  '0.006',\n",
       "  '0.006'],\n",
       " ['0.003',\n",
       "  '0.003',\n",
       "  '0.003',\n",
       "  '0.003',\n",
       "  '0.003',\n",
       "  '0.003',\n",
       "  '0.003',\n",
       "  '0.003',\n",
       "  '0.003',\n",
       "  '0.003',\n",
       "  '0.961',\n",
       "  '0.003',\n",
       "  '0.003',\n",
       "  '0.003',\n",
       "  '0.003',\n",
       "  '0.003']]"
      ]
     },
     "execution_count": 33,
     "metadata": {},
     "output_type": "execute_result"
    }
   ],
   "source": [
    "targ = format(10, '#06b')[2:]\n",
    "GroverSequence(targ,4,'statevector_simulator','ibmq_ourense',False)"
   ]
  },
  {
   "cell_type": "code",
   "execution_count": null,
   "metadata": {},
   "outputs": [],
   "source": []
  }
 ],
 "metadata": {
  "kernelspec": {
   "display_name": "Python 3",
   "language": "python",
   "name": "python3"
  },
  "language_info": {
   "codemirror_mode": {
    "name": "ipython",
    "version": 3
   },
   "file_extension": ".py",
   "mimetype": "text/x-python",
   "name": "python",
   "nbconvert_exporter": "python",
   "pygments_lexer": "ipython3",
   "version": "3.7.3"
  }
 },
 "nbformat": 4,
 "nbformat_minor": 2
}
